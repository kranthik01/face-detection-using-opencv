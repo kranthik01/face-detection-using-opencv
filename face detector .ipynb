{
 "cells": [
  {
   "cell_type": "markdown",
   "id": "3ab65c85",
   "metadata": {},
   "source": [
    "# we are going to build a face detection using open cv (machine learning )"
   ]
  },
  {
   "cell_type": "code",
   "execution_count": 6,
   "id": "d65b69c8",
   "metadata": {},
   "outputs": [
    {
     "name": "stdout",
     "output_type": "stream",
     "text": [
      "Collecting opencv-python\n",
      "  Downloading opencv_python-4.5.5.62-cp36-abi3-macosx_10_15_x86_64.whl (46.0 MB)\n",
      "\u001b[K     |████████████████████████████████| 46.0 MB 6.4 MB/s eta 0:00:01     |█████████████████████████████   | 41.6 MB 4.7 MB/s eta 0:00:01\n",
      "\u001b[?25hRequirement already satisfied: numpy>=1.17.3 in /Users/chaitanya_kr_01/opt/anaconda3/lib/python3.9/site-packages (from opencv-python) (1.22.2)\n",
      "Installing collected packages: opencv-python\n",
      "Successfully installed opencv-python-4.5.5.62\n",
      "Note: you may need to restart the kernel to use updated packages.\n"
     ]
    }
   ],
   "source": [
    " pip install opencv-python"
   ]
  },
  {
   "cell_type": "code",
   "execution_count": 1,
   "id": "aecca0df",
   "metadata": {},
   "outputs": [],
   "source": [
    "# importing  cv2 library \n",
    "\n",
    "import cv2 \n",
    "import os \n",
    "from random import randrange"
   ]
  },
  {
   "cell_type": "code",
   "execution_count": 8,
   "id": "267cf6ec",
   "metadata": {},
   "outputs": [],
   "source": [
    "# loading some pretrained data on face frontals from opencv (haar cascade algarithm )\n",
    "\n",
    "cascPath=os.path.dirname(cv2.__file__)+\"/data/haarcascade_frontalface_default.xml\"\n",
    "faceCascade = cv2.CascadeClassifier(cascPath)"
   ]
  },
  {
   "cell_type": "code",
   "execution_count": null,
   "id": "4cd82310",
   "metadata": {},
   "outputs": [],
   "source": []
  },
  {
   "cell_type": "code",
   "execution_count": null,
   "id": "7536b473",
   "metadata": {},
   "outputs": [],
   "source": [
    "# to take a video from webcam \n",
    "\n",
    "webcam = cv2.VideoCapture(0)\n",
    "\n",
    "\n",
    "\n",
    "# iteration over frames \n",
    "\n",
    "while True:\n",
    "    \n",
    "    ## read the current frame \n",
    "    successful_read_frame , frames = webcam.read()\n",
    "    \n",
    "    ## must convert to grayscale \n",
    "    \n",
    "    grayscale_img = cv2.cvtColor(frames, cv2.COLOR_BGR2GRAY)\n",
    "    \n",
    "    # detect faces\n",
    "\n",
    "    face_coordinates  = faceCascade.detectMultiScale(\n",
    "        grayscale_img,\n",
    "        scaleFactor=1.1,\n",
    "        minNeighbors=5,\n",
    "        minSize=(30, 30),\n",
    "        flags=cv2.CASCADE_SCALE_IMAGE )\n",
    "    \n",
    "    # draw rectangle around faces \n",
    "\n",
    "    for (x , y , w ,h ) in faces:\n",
    "            cv2.rectangle(frames ,(x,y),(x+w , y+h ) , (randrange(256),randrange(256),randrange(256)) , 4) \n",
    "    \n",
    "    \n",
    "    # reads image and displays that image \n",
    "    cv2.imshow(\" face detector \", frames )\n",
    "    key = cv2.waitKey(1)                        \n",
    "    \n",
    "    # waits fo user to press any key to exit display of image , if it is not there stucks in infinite loop \n",
    "    \n",
    "    \n",
    "    \n",
    "    # to break loop or to exit press q from keyboard \n",
    "    \n",
    "    if key == 81 or key == 113 :\n",
    "        break \n",
    "        \n",
    "## release the video capture object \n",
    "webcam.release()\n",
    "cv2.destroyAllWindows()\n"
   ]
  },
  {
   "cell_type": "code",
   "execution_count": null,
   "id": "2acf2f49",
   "metadata": {},
   "outputs": [],
   "source": []
  }
 ],
 "metadata": {
  "kernelspec": {
   "display_name": "Python 3 (ipykernel)",
   "language": "python",
   "name": "python3"
  },
  "language_info": {
   "codemirror_mode": {
    "name": "ipython",
    "version": 3
   },
   "file_extension": ".py",
   "mimetype": "text/x-python",
   "name": "python",
   "nbconvert_exporter": "python",
   "pygments_lexer": "ipython3",
   "version": "3.9.7"
  }
 },
 "nbformat": 4,
 "nbformat_minor": 5
}
